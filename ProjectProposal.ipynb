{
 "cells": [
  {
   "cell_type": "code",
   "execution_count": 1,
   "metadata": {
    "collapsed": true
   },
   "outputs": [],
   "source": [
    "import pandas as pd"
   ]
  },
  {
   "cell_type": "markdown",
   "metadata": {},
   "source": [
    "#### 2007-2016-PIT-Counts-by-CoC"
   ]
  },
  {
   "cell_type": "code",
   "execution_count": 2,
   "metadata": {
    "collapsed": false
   },
   "outputs": [],
   "source": [
    "PIT2016 = pd.read_excel(\"2007-2016-PIT-Counts-by-CoC.xlsx\", sheetname='2016', header=0)\n",
    "PIT2016 = PIT2016.ix[:,:3]\n",
    "PIT2016 = PIT2016.dropna()\n",
    "PIT2016 = PIT2016[PIT2016['CoC Number'].str.contains(\"CA-\")]\n",
    "\n",
    "PIT2015 = pd.read_excel(\"2007-2016-PIT-Counts-by-CoC.xlsx\", sheetname='2015', header=0)\n",
    "PIT2015 = PIT2015.ix[:,:3]\n",
    "PIT2015 = PIT2015.dropna()\n",
    "PIT2015 = PIT2015[PIT2015['CoC Number'].str.contains(\"CA-\")]\n",
    "\n",
    "PIT2014 = pd.read_excel(\"2007-2016-PIT-Counts-by-CoC.xlsx\", sheetname='2014', header=0)\n",
    "PIT2014 = PIT2014.ix[:,:3]\n",
    "PIT2014 = PIT2014.dropna()\n",
    "PIT2014 = PIT2014[PIT2014['CoC Number'].str.contains(\"CA-\")]\n",
    "\n",
    "PIT2013 = pd.read_excel(\"2007-2016-PIT-Counts-by-CoC.xlsx\", sheetname='2013', header=0)\n",
    "PIT2013 = PIT2013.ix[:,:3]\n",
    "PIT2013 = PIT2013.dropna()\n",
    "PIT2013 = PIT2013[PIT2013['CoC Number'].str.contains(\"CA-\")]\n",
    "\n",
    "\n",
    "PITNAMES = pd.read_excel(\"2007-2016-PIT-Counts-by-CoC.xlsx\", sheetname='2016', header=0)\n",
    "PITNAMES = PITNAMES.ix[:,:2]\n",
    "PITNAMES = PITNAMES.dropna()\n",
    "PITNAMES = PITNAMES[PITNAMES['CoC Number'].str.contains(\"CA-\")]"
   ]
  },
  {
   "cell_type": "markdown",
   "metadata": {},
   "source": [
    "#### 2007-2016-HIC-Counts-by-CoC"
   ]
  },
  {
   "cell_type": "code",
   "execution_count": 3,
   "metadata": {
    "collapsed": false
   },
   "outputs": [],
   "source": [
    "HIC2016 = pd.read_excel(\"2007-2016-HIC-Counts-by-CoC.xlsx\", sheetname='2016', header=1)\n",
    "HIC2016 = HIC2016[['CoC Number', 'Total Year-Round Beds (ES)', 'Total Year-Round Beds (TH)', 'Total Year-Round Beds (PSH)']]\n",
    "HIC2016 = HIC2016.dropna()\n",
    "HIC2016 = HIC2016[HIC2016['CoC Number'].str.contains(\"CA-\")]\n",
    "\n",
    "HIC2015 = pd.read_excel(\"2007-2016-HIC-Counts-by-CoC.xlsx\", sheetname='2015', header=1)\n",
    "HIC2015 = HIC2015[['CoC Number', 'Total Year-Round Beds (ES)', 'Total Year-Round Beds (TH)', 'Total Year-Round Beds (PSH)']]\n",
    "HIC2015 = HIC2015.dropna()\n",
    "HIC2015 = HIC2015[HIC2015['CoC Number'].str.contains(\"CA-\")]\n",
    "\n",
    "HIC2014 = pd.read_excel(\"2007-2016-HIC-Counts-by-CoC.xlsx\", sheetname='2014', header=1)\n",
    "HIC2014 = HIC2014[['CoC Number', 'Total Year-Round Beds (ES)', 'Total Year-Round Beds (TH)', 'Total Year-Round Beds (PSH)']]\n",
    "HIC2014 = HIC2014.dropna()\n",
    "HIC2014 = HIC2014[HIC2014['CoC Number'].str.contains(\"CA-\")]\n",
    "\n",
    "HIC2013 = pd.read_excel(\"2007-2016-HIC-Counts-by-CoC.xlsx\", sheetname='2013', header=1)\n",
    "HIC2013 = HIC2013[['CoC Number', 'Total Year-Round ES Beds', 'Total TH Beds', 'Total PSH Beds']]\n",
    "HIC2013 = HIC2013.dropna()\n",
    "HIC2013 = HIC2013[HIC2013['CoC Number'].str.contains(\"CA-\")]"
   ]
  },
  {
   "cell_type": "code",
   "execution_count": 24,
   "metadata": {
    "collapsed": false
   },
   "outputs": [
    {
     "data": {
      "text/html": [
       "<div>\n",
       "<table border=\"1\" class=\"dataframe\">\n",
       "  <thead>\n",
       "    <tr style=\"text-align: right;\">\n",
       "      <th></th>\n",
       "      <th>CoC Number</th>\n",
       "      <th>CoC Name</th>\n",
       "      <th>Total Homeless, 2013</th>\n",
       "      <th>Total Year-Round ES Beds</th>\n",
       "      <th>Total TH Beds</th>\n",
       "      <th>Total PSH Beds</th>\n",
       "    </tr>\n",
       "  </thead>\n",
       "  <tbody>\n",
       "    <tr>\n",
       "      <th>0</th>\n",
       "      <td>CA-500</td>\n",
       "      <td>San Jose/Santa Clara City &amp; County CoC</td>\n",
       "      <td>7631.0</td>\n",
       "      <td>587</td>\n",
       "      <td>1214</td>\n",
       "      <td>3338</td>\n",
       "    </tr>\n",
       "    <tr>\n",
       "      <th>1</th>\n",
       "      <td>CA-501</td>\n",
       "      <td>San Francisco CoC</td>\n",
       "      <td>7008.0</td>\n",
       "      <td>1622</td>\n",
       "      <td>1073</td>\n",
       "      <td>6637</td>\n",
       "    </tr>\n",
       "    <tr>\n",
       "      <th>2</th>\n",
       "      <td>CA-502</td>\n",
       "      <td>Oakland/Alameda County CoC</td>\n",
       "      <td>4264.0</td>\n",
       "      <td>856</td>\n",
       "      <td>1208</td>\n",
       "      <td>2367</td>\n",
       "    </tr>\n",
       "    <tr>\n",
       "      <th>3</th>\n",
       "      <td>CA-503</td>\n",
       "      <td>Sacramento City &amp; County CoC</td>\n",
       "      <td>2538.0</td>\n",
       "      <td>578</td>\n",
       "      <td>976</td>\n",
       "      <td>2301</td>\n",
       "    </tr>\n",
       "    <tr>\n",
       "      <th>4</th>\n",
       "      <td>CA-504</td>\n",
       "      <td>Santa Rosa/Petaluma/Sonoma County CoC</td>\n",
       "      <td>4280.0</td>\n",
       "      <td>547</td>\n",
       "      <td>529</td>\n",
       "      <td>876</td>\n",
       "    </tr>\n",
       "  </tbody>\n",
       "</table>\n",
       "</div>"
      ],
      "text/plain": [
       "  CoC Number                                CoC Name  Total Homeless, 2013  \\\n",
       "0     CA-500  San Jose/Santa Clara City & County CoC                7631.0   \n",
       "1     CA-501                       San Francisco CoC                7008.0   \n",
       "2     CA-502              Oakland/Alameda County CoC                4264.0   \n",
       "3     CA-503            Sacramento City & County CoC                2538.0   \n",
       "4     CA-504   Santa Rosa/Petaluma/Sonoma County CoC                4280.0   \n",
       "\n",
       "   Total Year-Round ES Beds  Total TH Beds  Total PSH Beds  \n",
       "0                       587           1214            3338  \n",
       "1                      1622           1073            6637  \n",
       "2                       856           1208            2367  \n",
       "3                       578            976            2301  \n",
       "4                       547            529             876  "
      ]
     },
     "execution_count": 24,
     "metadata": {},
     "output_type": "execute_result"
    }
   ],
   "source": [
    "y2016 = pd.merge(PIT2016, HIC2016, on='CoC Number')\n",
    "y2015 = pd.merge(PIT2015, HIC2015, on='CoC Number')\n",
    "y2014 = pd.merge(PIT2014, HIC2014, on='CoC Number')\n",
    "y2013 = pd.merge(PIT2013, HIC2013, on='CoC Number')\n",
    "#HIC2014\n",
    "#PIT = pd.merge(PIT2016, PIT2015, on='CoC Number')\n",
    "#PIT = pd.merge(PIT, PIT2014, on='CoC Number')\n",
    "#PIT = pd.merge(PIT, PIT2013, on='CoC Number')\n",
    "#cols=[3, 5]\n",
    "#PIT.drop(PIT.columns[cols],axis=1,inplace=True)\n",
    "#PIT = pd.merge(PIT, PITNAMES, on='CoC Number')\n",
    "y2013.head()"
   ]
  },
  {
   "cell_type": "code",
   "execution_count": 31,
   "metadata": {
    "collapsed": false
   },
   "outputs": [
    {
     "name": "stdout",
     "output_type": "stream",
     "text": [
      "CA-500 11.4224557307 23.6232730103 64.954271259\n"
     ]
    }
   ],
   "source": [
    "county = y2013['CoC Number'][0]\n",
    "totalH = y2013['Total Homeless, 2013'][0]\n",
    "ES = y2013['Total Year-Round ES Beds'][0]\n",
    "TH = y2013['Total TH Beds'][0]\n",
    "PSH = y2013['Total PSH Beds'][0]\n",
    "totalP = ES+TH+PSH\n",
    "ESper = (ES/totalP)*100\n",
    "THper = (TH/totalP)*100\n",
    "PSHper = (PSH/totalP)*100\n",
    "print(county,ESper,THper,PSHper)"
   ]
  },
  {
   "cell_type": "code",
   "execution_count": 10,
   "metadata": {
    "collapsed": false
   },
   "outputs": [],
   "source": [
    "#y2014"
   ]
  },
  {
   "cell_type": "code",
   "execution_count": 9,
   "metadata": {
    "collapsed": false
   },
   "outputs": [],
   "source": [
    "#y2015"
   ]
  },
  {
   "cell_type": "code",
   "execution_count": 8,
   "metadata": {
    "collapsed": false
   },
   "outputs": [],
   "source": [
    "#y2016"
   ]
  },
  {
   "cell_type": "markdown",
   "metadata": {},
   "source": [
    "# COGS 108 - Assignment 4: Project Proposal"
   ]
  },
  {
   "cell_type": "markdown",
   "metadata": {},
   "source": [
    "## Important\n",
    "\n",
    "- Make sure all group member (3-5 people) are listed in the group members section.\n",
    "- ONE, and only one, member of your group should upload this notebook to TritonED. \n",
    "- Each member of the group will receive the same grade on this assignment. \n",
    "- Keep the file name the same: submit the file 'A4_ProjectProposal.ipynb'"
   ]
  },
  {
   "cell_type": "markdown",
   "metadata": {},
   "source": [
    "## Overview"
   ]
  },
  {
   "cell_type": "markdown",
   "metadata": {},
   "source": [
    "Read the project description, and detailed instructions for this assignment, in the 'A4_ProjectOutlineAndProposal' pdf."
   ]
  },
  {
   "cell_type": "markdown",
   "metadata": {},
   "source": [
    "## Group Members: Fill in the Student ID's of each group member here\n",
    "- A12982947\n",
    "- A10222000\n",
    "- A13071988\n",
    "- A12828207\n",
    "- A14239051\n",
    "- A12039857\n"
   ]
  },
  {
   "cell_type": "markdown",
   "metadata": {},
   "source": [
    "### Research Question\n",
    "\n",
    "What is your research question? (1-2 sentences)"
   ]
  },
  {
   "cell_type": "markdown",
   "metadata": {},
   "source": [
    "What housing services are most successful in transitioning homeless individuals into permanent housing, ultimately preventing them from returning to homelessness? How has San Diego managed its homeless resources across each region and is San Diego using its resources to full potential?"
   ]
  },
  {
   "cell_type": "markdown",
   "metadata": {},
   "source": [
    "### Hypothesis\n",
    "\n",
    "What is your prediction (2-3 sentences)"
   ]
  },
  {
   "cell_type": "markdown",
   "metadata": {},
   "source": [
    "We predict that housing solutions are a better model compared to shelters to the homelessness crisis in the San Diego County. We also hypothesize that San Diego has under utilized its resources and biased its allocations to less efficient services for homeless individuals."
   ]
  },
  {
   "cell_type": "markdown",
   "metadata": {},
   "source": [
    "### Dataset(s)\n",
    "\n",
    "What data will you use to answer your question? Describe the dataset in terms of number of observations, what kind of features it contains, etc. You must use at least one dataset containing at least approximately 1000 observations (if your data are smaller but you feel they are sufficient, email Prof. Voytek). You are welcome (and in fact recommended) to find multiple datasets! If you do so, describe each one, and briefly explain how you will combine them together. "
   ]
  },
  {
   "cell_type": "markdown",
   "metadata": {},
   "source": [
    "*Fill in your dataset information here*\n",
    "\n",
    "(Copy this information for each dataset)\n",
    "- Dataset Name: RTFHSD\n",
    "- Link to the dataset: Request Form Submitted to RTFH\n",
    "- Number of observations: Unknown (possibly > 1000)\n",
    "\n",
    "1-2 sentences describing the dataset: \n",
    "If our Request for the Data of the Regional Task Force is approved we will have access to much of the data on Housing Services in San Diego for the Homeless and other important demographic and survey based data. If we are unable to be approved for this data (which is a high probability) we will be utilizing the San Diego Homeless Dashboard listed below. \n",
    "\n",
    "- Dataset Name: RTFHSD: Housing Inventory (16-17)\n",
    "- Link to the dataset: 2017 Housing Inventory Count 2016 Housing Inventory Count\n",
    "- Number of observations: ~450\n",
    "\n",
    "1-2 sentences describing the dataset: \n",
    "The Housing Inventory provided by the Regional Task Force provides data for each of the different types of services offered (Permanent Supportive Housing, Emergency Shelters, Transitional Housing, etc…) by providers and important Total Bed count and the Utilization Rate of those resources counted from the Point In Time Count. \n",
    "\n",
    "- Dataset Name: San Diego Homeless Dashboard\n",
    "- Link to the dataset: http://www.rtfhsd.org/publications/sandiegohomelessdashboard/ \n",
    "- Number of observations: N/A (requires manual retrieval of data)\n",
    "\n",
    "1-2 sentences describing the dataset: \n",
    "The San Diego Homeless Dashboard provides information on all services being provided in each city of San Diego county. It also provides information on changes of Clients in each service from October 2014 to September 2016 (the next quarterly update is not posted till October 2017). Furthermore, we will be able to see differences between each of the services and the amount of clients who had Successful Exits (left a housing service and entered into Permanent Housing) or Unsuccessful Exits (left a housing service and did not enter into Permanent Housing). \n",
    "\n",
    "If you plan to use multiple datasets, add 1-2 sentences about how you plan to combine these datasets.\n",
    "\n",
    "We plan to combine the Housing Inventory and the San Diego Homeless Dashboard to analyze what housing services are effectively providing permanent housing. Then we would like to compare the data of the different types of housing and their “success rate” to the recent housing resources San Diego providers have allocated and have they have been utilized as well. "
   ]
  },
  {
   "cell_type": "markdown",
   "metadata": {},
   "source": [
    "### Background & Prior Work\n",
    "\n",
    "Why is this question of interest, what background information led you to your hypothesis, and why is this important?\n",
    "\n",
    "Find some relevant prior work, and reference them. Even if you think you have a totally novel question, find the most similar prior work you can, and discuss how it relates to your project. \n",
    "\n",
    "References can be research publications, but they need not be: blogs, github repositories, company websites, etc., are viable references if they are relevant to your project.\n",
    "\n",
    "(2-3 paragraphs, including at least 2 references)"
   ]
  },
  {
   "cell_type": "markdown",
   "metadata": {},
   "source": [
    "According to the Regional Task Force (1), over the past five years unsheltered homeless persons in San Diego has increased steadily while sheltered homeless persons has decreased. With the multitude of programs and services implemented by both the state and the federal government, it is disturbing that homeless populations continue to increase. Although the the homeless crisis in San Diego and many other communities is an extremely complex issue to tackle, communities such as Bergen, New Jersey (in partnership with an organization called Community Solutions) with a population of about one million people has proved that it is not impossible (2). The three main strategies that they used to address homelessness were: coordination between service providers, a commitment to a housing-first solution, and a data driven systems framework. Communities like Bergen that have focused on the US war veteran homeless population have demonstrated that with the right strategy, homelessness can be reduced to “functional zero” (3).\n",
    "\tOne of the key components involved in Bergen’s response to their homeless crisis was changing the housing services provided and specifically advocating for a housing-first strategy rather than shelters. One important element to a housing-first approach is identify what types of housing services are most suitable depending on an individual’s needs and will further prevent them from returning to homelessness. The U.S. Department of Housing and Urban Development (4) recently published a study on different housing services provided to families. They discovered that families who were administered stable housing solutions such as Rapid Re-housing and Long-term Housing Subsidies rather than Transitional Housing or Emergency Shelters demonstrated more benefits (cheaper, better quality of life) over a three year period. In addition, the overall cost for each family was the lowest for Rapid Re-Housing than the other services. This provides evidence that services vary in their efficiency to provide individuals with the resources they need. It is time for San Diego to change its approach to tackling the homeless crisis and allocate its resources to housing strategies that are actually benefiting the people that need them the most. Not only does it benefit the taxpayers by increasing the efficiency of government spending, but it more importantly improves the quality of life of people who are so underserved in San Diego today. \n",
    "\n",
    "Referencess (include a link):\n",
    "- 1) http://www.rtfhsd.org \n",
    "- 2) https://www.community.solutions/blog/bergen-county-ends-chronic-homelessness-first-usa\n",
    "- 3) https://www.community.solutions/blog/riverside-becomes-first-large-community-end-veteran-homelessness\n",
    "- 4) https://portal.hud.gov/hudportal/HUD?src=/press/press_releases_media_advisories/2016/HUDNo_16-160 "
   ]
  },
  {
   "cell_type": "markdown",
   "metadata": {},
   "source": [
    "### Proposed Methods\n",
    "\n",
    "What methods will you use to analyze your data?\n",
    "\n",
    "- How 'clean' is the data? To the extent that it requires cleaning, how will you do so?\n",
    "- How will you analyze the data? Be as specific as you can. Briefly mention any pre-processing steps that are required for your methods (for example, checking data distributions and performing any transformations that may be required). Include a brief outline of how you will apply your chosen method(s). \n",
    "- What do you plan to report? Briefly mention any key visualizations you plan to create, and/or the kind of result you will be able to report that addresses your question (this could be, for example, the outcome of some statistical test(s), prediction error on a model, a model fit parameter, etc.).\n",
    "- Include a list of packages you expect to use for you project. If you plan to use packages we have not used in class, add a very brief description about them (a few words is sufficient). "
   ]
  },
  {
   "cell_type": "markdown",
   "metadata": {},
   "source": [
    "*Fill in your proposed methods information here:*\n",
    "\n",
    "*Data Cleaning (2-3 sentences)*\n",
    "After speaking with Voytek he suggesting we use data scraping. We plan on meeting with him to to over this method with some of our data. This will require extensive manual data input into cohesive excel spreadsheets (or possibly csv) so they can be analyzed appropriately. The rest will be going through extraction, integration and aggregation (filtering process).  Once we have gone through these we’ll be throwing out unneeded information that was integrated in our data collection. For example, the data from the housing inventory is in an excel file. The file has a few missing data points and data that will not be useful for purpose so we will need to drop certain columns. \n",
    "\n",
    "*Data Analysis (1-2 paragraphs)*\n",
    "For our analysis portion we will be dividing them into data profiling and data mining areas. A few of the data analysis tools we could potentially be using would be Migration Architect (Evoke Software) and Data mining Suit (Informative Discovery).  Migration Architect  will help us with the attributes of our data such as: data type, length, cardinality, discrete values and their percentage, minimum and maximum values, missing values, and uniqueness. We would start by plotting the data and look for potential outliers. Then most likely look at multiple linear regression model for how the services provided are related to helping in overcoming the homeless crisis. This will allow us to visualize the data and make predictive models about it. \n",
    "\n",
    "However, some of our data requires some pre-processing, the data from the San Diego Homeless Dashboard is in a pdf format which means that we will have to parse the data into a json file or csv file manually. Also, since the  RTFHSD has not given us their data yet, we do not know if there is going to be major pre-processing or not. \n",
    "\n",
    "*What to report (2-3 sentences)*\n",
    "\n",
    "We hope to report from our data that our hypotheses is correct. Key visualization we plan to create is a histogram that shows what housing services the city distributes its resources for homelessness. We will attempt to show which of those programs have the highest success rate and utilization. Then cross list to see if the city is distributing its resources correctly. Finally, we will be able to compare the differences between housing services in each city of the county of San Diego and evaluate the differences between Success rates across cities. \n",
    "\n",
    "Packages we plan to use:\n",
    "- a Pandas\n",
    "- b Matplotlib\n",
    "- c NumPy"
   ]
  },
  {
   "cell_type": "markdown",
   "metadata": {},
   "source": [
    "### Discussion\n",
    "\n",
    "What are the pitfalls and potential confounds of your data and/or methods? For example, how might biases in your data sources or analyses influence your interpretations? What will you do if you methods don't work and/or your hypotheses are wrong?\n",
    "\n",
    "(2-3 paragraphs)"
   ]
  },
  {
   "cell_type": "markdown",
   "metadata": {},
   "source": [
    "With analyzing data to a incredibly complex crisis such as homelessness it of course falls into potential confounds that can have an effect on our analysis. One issue with collecting data on homelessness in general is actually getting concrete data since those falling in and out of homelessness is so dynamic and changes constantly. We have to assume that the data we have received is an incomplete picture of the true population of homeless individuals in San Diego. Essentially what we have received is just a sample at a particular point of time and we are making observations based on that and assuming that the observations can be extended beyond those temporal and physical boundaries. \n",
    "\tIn addition, data collected from HMIS is incomplete as most people utilize the system (required to input data into the system if receiving funding from HUD), yet not all organizations that are servicing the homeless are utilizing this system (receiving funds from somewhere other than HUD). So that is valuable data again that we are missing. \n",
    "Other confounds we may come across would be structural conflicts we may come across since we are using a variation of data sets not strictly limiting ourselves to csv or json files. With some of our data we will be creating our own files and individually inputting the data which can carry out typos, misspelling, redundancy, duplicates or man made errors. \n",
    "We are confident in our hypotheses from the research we have conducted so far, and our proposed methods for analyzing the data. However, should our methods or hypotheses be incorrect we will possibly focus on a specific subpopulation of the homeless, like Veterans or Youth for example, and utilize the data resource to predict the most effective housing strategy for that specific subpopulation. Should our methods fail we will continue to seek other ways of visualizing and structuring the data. Many times in data science we stumble across findings we weren’t even searching for or reach complications we could have never anticipated. Although these will be a challenge we are open in being flexible with our methodology. "
   ]
  }
 ],
 "metadata": {
  "kernelspec": {
   "display_name": "Python 3",
   "language": "python",
   "name": "python3"
  },
  "language_info": {
   "codemirror_mode": {
    "name": "ipython",
    "version": 3
   },
   "file_extension": ".py",
   "mimetype": "text/x-python",
   "name": "python",
   "nbconvert_exporter": "python",
   "pygments_lexer": "ipython3",
   "version": "3.6.0"
  }
 },
 "nbformat": 4,
 "nbformat_minor": 2
}
